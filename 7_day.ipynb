{
 "cells": [
  {
   "cell_type": "markdown",
   "metadata": {},
   "source": [
    "\n",
    "### Conditional statements\n",
    "Conditional statements in Python, including `if`, `elif` (`else if`), and `else`, are used to control the flow of the program based on certain conditions. Here’s an overview of how these statements work along with examples.\n",
    "\n",
    "**if Statement**\n",
    "The if statement checks a condition and executes a block of code if the condition is true."
   ]
  },
  {
   "cell_type": "code",
   "execution_count": 3,
   "metadata": {},
   "outputs": [
    {
     "name": "stdout",
     "output_type": "stream",
     "text": [
      "You are an adult\n"
     ]
    }
   ],
   "source": [
    "age = 18\n",
    "if age>=18:\n",
    "    print(\"You are an adult\")"
   ]
  },
  {
   "cell_type": "markdown",
   "metadata": {},
   "source": [
    "### if-else Statement\n",
    "The if-else statement executes one block of code if the condition is true and another block if the condition is false."
   ]
  },
  {
   "cell_type": "code",
   "execution_count": 5,
   "metadata": {},
   "outputs": [
    {
     "name": "stdout",
     "output_type": "stream",
     "text": [
      "You are a child\n"
     ]
    }
   ],
   "source": [
    "age=15\n",
    "if age>=18:\n",
    "    print(\"you are an adult\")\n",
    "else:\n",
    "    print(\"You are a child\")"
   ]
  },
  {
   "cell_type": "code",
   "execution_count": 6,
   "metadata": {},
   "outputs": [
    {
     "name": "stdout",
     "output_type": "stream",
     "text": [
      "your are a child\n"
     ]
    }
   ],
   "source": [
    "age=input(\"Enter your age: \")\n",
    "age=int(age)\n",
    "if age>=18:\n",
    "    print(\"You are an adult\")\n",
    "else:\n",
    "    print(\"your are a child\")"
   ]
  },
  {
   "cell_type": "markdown",
   "metadata": {},
   "source": [
    "### if-elif-else Statement\n",
    "The `if-elif-else` statement allows checking multiple conditions and executing different blocks of code based on which condition is true. You can have multiple elif blocks between `if` and `else`."
   ]
  },
  {
   "cell_type": "code",
   "execution_count": 8,
   "metadata": {},
   "outputs": [
    {
     "name": "stdout",
     "output_type": "stream",
     "text": [
      "grade A\n"
     ]
    }
   ],
   "source": [
    "marks=int(input(\"Enter your marks: \"))\n",
    "if marks>=90:\n",
    "    print('grade A+')\n",
    "elif marks>=70:\n",
    "    print('grade A')\n",
    "elif marks>=60:\n",
    "    print('Grade B')\n",
    "elif marks>=40:\n",
    "    print('Grade C')\n",
    "else:\n",
    "    print(\"You are failed\")"
   ]
  }
 ],
 "metadata": {
  "kernelspec": {
   "display_name": "data_analysis",
   "language": "python",
   "name": "python3"
  },
  "language_info": {
   "codemirror_mode": {
    "name": "ipython",
    "version": 3
   },
   "file_extension": ".py",
   "mimetype": "text/x-python",
   "name": "python",
   "nbconvert_exporter": "python",
   "pygments_lexer": "ipython3",
   "version": "3.12.3"
  }
 },
 "nbformat": 4,
 "nbformat_minor": 2
}
