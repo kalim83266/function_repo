{
 "cells": [
  {
   "cell_type": "markdown",
   "metadata": {},
   "source": [
    "## Dictionary in Python\n",
    "\n",
    "In Python, a dictionary is an unordered collection of key-value pairs. Each key-value pair maps the key to its associated value. Dictionaries are optimized for retrieving values when the key is known. They are mutable, meaning you can change them by adding, removing, or modifying key-value pairs.\n",
    "\n",
    "#### Key Characteristics of Dictionaries:\n",
    "**Unordered:** The order of elements is not guaranteed. (Note: As of Python 3.7, dictionaries maintain insertion order as an implementation detail, and this became a language feature in Python 3.8.)  \n",
    "**Key-Value Pairs:** Each element in a dictionary is a pair consisting of a key and a value.  \n",
    "**Keys are Unique:** Duplicate keys are not allowed. Each key must be unique.  \n",
    "__Keys are Immutable:__ Keys must be of an immutable type, such as strings, numbers, or tuples   containing immutable elements.  \n",
    "__Values can be of any Type:__ Values can be of any type, including lists, other dictionaries, etc.\n",
    "\n",
    "### Creating a Dictionary\n",
    "You can create a dictionary by enclosing key-value pairs in curly braces {}, separated by commas, or by using the `dict()` constructor.\n",
    "\n",
    "Example 1: Using Curly Braces"
   ]
  },
  {
   "cell_type": "code",
   "execution_count": 32,
   "metadata": {},
   "outputs": [
    {
     "name": "stdout",
     "output_type": "stream",
     "text": [
      "{'name': 'kalim', 'age': 20, 'city': 'bangkok'}\n"
     ]
    }
   ],
   "source": [
    "my_dict={\n",
    "    \"name\": \"kalim\",\n",
    "    \"age\": 20,\n",
    "    \"city\": \"bangkok\",\n",
    "}\n",
    "print(my_dict)"
   ]
  },
  {
   "cell_type": "code",
   "execution_count": 33,
   "metadata": {},
   "outputs": [
    {
     "name": "stdout",
     "output_type": "stream",
     "text": [
      "{'name': 'Alice', 'age': 30, 'city': 'New York'}\n"
     ]
    }
   ],
   "source": [
    "# Creating dictionary using dict() method\n",
    "my_dict2=dict(name=\"Alice\", age=30, city=\"New York\")\n",
    "print(my_dict2)"
   ]
  },
  {
   "cell_type": "markdown",
   "metadata": {},
   "source": [
    "### Accessing Values\n",
    "You can access the value associated with a specific key using square brackets [] or the `get()` method.\n",
    "\n",
    "#### Using Square Brackets and get() method"
   ]
  },
  {
   "cell_type": "code",
   "execution_count": 34,
   "metadata": {},
   "outputs": [
    {
     "name": "stdout",
     "output_type": "stream",
     "text": [
      "kalim\n",
      "20\n",
      "bangkok\n"
     ]
    }
   ],
   "source": [
    "print(my_dict[\"name\"])\n",
    "print(my_dict.get(\"age\"))\n",
    "print(my_dict.get('city'))"
   ]
  },
  {
   "cell_type": "markdown",
   "metadata": {},
   "source": [
    "## Modifying a Dictionary\n",
    "You can add new key-value pairs or update existing ones.\n",
    "\n",
    "Example: Modifying Dictionary"
   ]
  },
  {
   "cell_type": "code",
   "execution_count": 35,
   "metadata": {},
   "outputs": [
    {
     "name": "stdout",
     "output_type": "stream",
     "text": [
      "{'name': 'kalim', 'age': 20, 'city': 'bangkok', 'email': 'klaim87061@gmail.com'}\n",
      "{'name': 'kalim', 'age': 43, 'city': 'bangkok', 'email': 'klaim87061@gmail.com'}\n"
     ]
    }
   ],
   "source": [
    "my_dict['email']='klaim87061@gmail.com'\n",
    "print(my_dict)\n",
    "my_dict['age']=43\n",
    "print(my_dict)"
   ]
  },
  {
   "cell_type": "markdown",
   "metadata": {},
   "source": [
    "### Removing Elements from a Dictionary\n",
    "You can remove elements using the `del` statement, the `pop()` method, or the `popitem()` method.\n",
    "\n",
    "**Example: Removing Elements**"
   ]
  },
  {
   "cell_type": "code",
   "execution_count": 36,
   "metadata": {},
   "outputs": [
    {
     "name": "stdout",
     "output_type": "stream",
     "text": [
      "{'age': 30, 'city': 'New York'}\n",
      "New York\n",
      "{'age': 30}\n"
     ]
    }
   ],
   "source": [
    "my_dict2=dict(name=\"Alice\", age=30, city=\"New York\")\n",
    "del my_dict2[\"name\"]\n",
    "print(my_dict2)\n",
    "pop_item=my_dict2.pop(\"city\")\n",
    "print(pop_item)\n",
    "print(my_dict2)"
   ]
  },
  {
   "cell_type": "markdown",
   "metadata": {},
   "source": [
    "### Dictionary Methods\n",
    "Commonly Used Dictionary Methods  \n",
    "`keys():` Returns a view object containing the dictionary's keys."
   ]
  },
  {
   "cell_type": "code",
   "execution_count": 37,
   "metadata": {},
   "outputs": [
    {
     "name": "stdout",
     "output_type": "stream",
     "text": [
      "dict_keys(['name', 'age', 'city'])\n",
      "dict_values(['kashif', 25, 'karachi'])\n",
      "dict_items([('name', 'kashif'), ('age', 25), ('city', 'karachi')])\n",
      "None\n",
      "{'name': 'kashif', 'age': 25, 'city': 'karachi', 'class': '6th', 'section': 'A', 'roll_no': 12}\n",
      "{'name': 'kashif', 'age': 25, 'city': 'karachi', 'class': '6th', 'section': 'A', 'roll_no': 12, 'school': 'kariz'}\n",
      "{'name': 'kashif', 'age': '55', 'city': 'karachi', 'class': '6th', 'section': 'A', 'roll_no': 12, 'school': 'kariz'}\n"
     ]
    }
   ],
   "source": [
    "my_dict3={\n",
    "    'name': 'kashif',\n",
    "    'age': 25,\n",
    "    'city': 'karachi'\n",
    "}\n",
    "print(my_dict3.keys())\n",
    "\n",
    "print(my_dict3.values())\n",
    "print(my_dict3.items())\n",
    "\n",
    "print(my_dict3.get('email'))\n",
    "\n",
    "# my_dict3.update({\"city\": \"New York\", \"email\": \"john@example.com\"})\n",
    "# print(my_dict3)\n",
    "dict1={\n",
    "    'class': '6th',\n",
    "    'section': 'A',\n",
    "    'roll_no': 12\n",
    "}\n",
    "\n",
    "\n",
    "my_dict3.update(dict1)\n",
    "print(my_dict3)\n",
    "\n",
    "my_dict3['school']='kariz'\n",
    "print(my_dict3)\n",
    "\n",
    "my_dict3['age']='55'\n",
    "print(my_dict3)\n",
    "\n",
    "#clear method\n",
    "# my_dict3.clear()\n",
    "# print(my_dict3)\n",
    "# clear all items from the dictionary and print within one line of code\n",
    "# print(my_dict3.clear())"
   ]
  },
  {
   "cell_type": "markdown",
   "metadata": {},
   "source": [
    "## Iterating Over a Dictionary\n",
    "You can iterate over a dictionary's keys, values, or key-value pairs.  \n",
    "what is iterating [click here ](https://realpython.com/python-for-loop/#:~:text=Repetitive%20execution%20of%20the%20same,until%20some%20condition%20is%20met)to know about iterating.  \n",
    "how to insert image in markdown\n",
    "\n",
    "<img src=\"https://miro.medium.com/v2/resize:fit:720/format:webp/0*_kNSNN_BwKcpVhQc\" alt=\"iterating diagram\" width=\"700\" height=\"400\">\n"
   ]
  },
  {
   "cell_type": "code",
   "execution_count": 47,
   "metadata": {},
   "outputs": [
    {
     "name": "stdout",
     "output_type": "stream",
     "text": [
      "name\n",
      "age\n",
      "city\n",
      "class\n",
      "section\n",
      "roll_no\n",
      "school\n",
      "kashif\n",
      "55\n",
      "karachi\n",
      "6th\n",
      "A\n",
      "12\n",
      "kariz\n",
      "name\n",
      "age\n",
      "city\n",
      "class\n",
      "section\n",
      "roll_no\n",
      "school\n"
     ]
    }
   ],
   "source": [
    "for key in my_dict3:\n",
    "    print(key)\n",
    "    \n",
    "# print values\n",
    "for value in my_dict3.values():\n",
    "    print(value)\n",
    "    \n",
    "#print keys using key method\n",
    "for key in my_dict3.keys():\n",
    "    print(key)\n"
   ]
  },
  {
   "cell_type": "markdown",
   "metadata": {},
   "source": []
  }
 ],
 "metadata": {
  "kernelspec": {
   "display_name": "data_analysis",
   "language": "python",
   "name": "python3"
  },
  "language_info": {
   "codemirror_mode": {
    "name": "ipython",
    "version": 3
   },
   "file_extension": ".py",
   "mimetype": "text/x-python",
   "name": "python",
   "nbconvert_exporter": "python",
   "pygments_lexer": "ipython3",
   "version": "3.12.3"
  }
 },
 "nbformat": 4,
 "nbformat_minor": 2
}
