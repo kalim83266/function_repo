{
 "cells": [
  {
   "cell_type": "markdown",
   "metadata": {},
   "source": [
    "More Advanced Input and Output  \n",
    "Reading Multiple Values\n",
    "To read multiple values from the user, you can use the split() method to split the input string into multiple parts."
   ]
  }
 ],
 "metadata": {
  "language_info": {
   "name": "python"
  }
 },
 "nbformat": 4,
 "nbformat_minor": 2
}
