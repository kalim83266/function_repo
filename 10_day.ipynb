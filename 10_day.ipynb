{
 "cells": [
  {
   "cell_type": "markdown",
   "metadata": {},
   "source": [
    "## Modules in python\n",
    "A module in Python is a file containing Python code, such as functions, classes, and variables, which can be reused in other Python programs. Modules help in organizing and structuring code by grouping related functionalities together. They also promote code reuse and maintainability.\n",
    "\n",
    "Creating a Module\n",
    "To create a module, you simply save a Python script with a .py extension. For example, you can create a file named mymodule.py with the following content:"
   ]
  },
  {
   "cell_type": "code",
   "execution_count": 3,
   "metadata": {},
   "outputs": [],
   "source": [
    "# mymodule.py\n",
    "\n",
    "def greet(name):\n",
    "    return f\"Hello, {name}!\"\n",
    "\n",
    "pi = 3.14159\n",
    "\n",
    "class Circle:\n",
    "    def __init__(self, radius):\n",
    "        self.radius = radius\n",
    "    \n",
    "    def area(self):\n",
    "        return pi * self.radius ** 2\n"
   ]
  },
  {
   "cell_type": "markdown",
   "metadata": {},
   "source": [
    "## Using a Module\n",
    "You can import the module into another script using the import statement and then access its functions, classes, and variables."
   ]
  },
  {
   "cell_type": "code",
   "execution_count": 10,
   "metadata": {},
   "outputs": [
    {
     "name": "stdout",
     "output_type": "stream",
     "text": [
      "Hello, Alice!\n",
      "The value of pi is 3.14159\n",
      "The area of the circle is 78.53975\n"
     ]
    }
   ],
   "source": [
    "# main.py\n",
    "\n",
    "import mymodule\n",
    "\n",
    "# Using a function from the module\n",
    "print(mymodule.greet(\"Alice\"))  # Output: Hello, Alice!\n",
    "\n",
    "# Accessing a variable from the module\n",
    "print(f\"The value of pi is {mymodule.pi}\")  # Output: The value of pi is 3.14159\n",
    "\n",
    "# Creating an instance of a class from the module\n",
    "circle = mymodule.Circle(5)\n",
    "print(f\"The area of the circle is {circle.area()}\")  # Output: The area of the circle is 78.53975\n"
   ]
  },
  {
   "cell_type": "markdown",
   "metadata": {},
   "source": [
    "### Importing Specific Items\n",
    "You can also import specific items from a module using the from ... import ... syntax."
   ]
  },
  {
   "cell_type": "code",
   "execution_count": 11,
   "metadata": {},
   "outputs": [
    {
     "name": "stdout",
     "output_type": "stream",
     "text": [
      "Hello, Bob!\n",
      "The area of the circle is 28.27431\n"
     ]
    }
   ],
   "source": [
    "from mymodule import greet, Circle\n",
    "\n",
    "print(greet(\"Bob\"))  # Output: Hello, Bob!\n",
    "circle = Circle(3)\n",
    "print(f\"The area of the circle is {circle.area()}\")  # Output: The area of the circle is 28.27431\n",
    "\n",
    "\n"
   ]
  },
  {
   "cell_type": "markdown",
   "metadata": {},
   "source": [
    "## Python standard libraries\n",
    "The Python Standard Library is a collection of modules and packages that come bundled with Python. It provides a wide array of functionalities, allowing you to perform numerous tasks without the need to install external libraries. These tasks include file I/O operations, system calls, web development, data manipulation, mathematical computations, and more. Here’s an overview of some key modules in the Python Standard Library:\n",
    "\n",
    "1. #### Operating System Interfaces\n",
    "* os: Provides a way to use operating system dependent functionality like reading or writing to the file system."
   ]
  },
  {
   "cell_type": "code",
   "execution_count": 12,
   "metadata": {},
   "outputs": [
    {
     "name": "stdout",
     "output_type": "stream",
     "text": [
      "4.0\n"
     ]
    }
   ],
   "source": [
    "import math\n",
    "print(math.sqrt(16))  # Square root\n"
   ]
  },
  {
   "cell_type": "markdown",
   "metadata": {},
   "source": [
    "## Reading and writing files in Python\n",
    "Reading and writing files in Python involves using file objects and their methods. Here’s a step-by-step guide on how to read from and write to files in Python:\n",
    "\n",
    "#### Reading Files\n",
    "1. Open a File: Use the open() function to open a file in read mode ('r')."
   ]
  },
  {
   "cell_type": "code",
   "execution_count": 23,
   "metadata": {},
   "outputs": [],
   "source": [
    "fileopen= open('file.txt', 'r')\n"
   ]
  },
  {
   "cell_type": "markdown",
   "metadata": {},
   "source": [
    "#### 2. Read the File Content:\n",
    "\n",
    "read(): Read the entire file content as a string."
   ]
  },
  {
   "cell_type": "code",
   "execution_count": 24,
   "metadata": {},
   "outputs": [
    {
     "name": "stdout",
     "output_type": "stream",
     "text": [
      "AI learning \n",
      "python modules\n",
      "libraries\n",
      "functions\n",
      "\n"
     ]
    }
   ],
   "source": [
    "readfile= fileopen.read()\n",
    "print(readfile)\n"
   ]
  },
  {
   "cell_type": "markdown",
   "metadata": {},
   "source": [
    "readline(): Read a single line from the file."
   ]
  },
  {
   "cell_type": "code",
   "execution_count": 25,
   "metadata": {},
   "outputs": [
    {
     "name": "stdout",
     "output_type": "stream",
     "text": [
      "\n"
     ]
    }
   ],
   "source": [
    "line= fileopen.readline()\n",
    "print(line)"
   ]
  },
  {
   "cell_type": "markdown",
   "metadata": {},
   "source": [
    "readlines(): Read all lines from the file into a list."
   ]
  },
  {
   "cell_type": "code",
   "execution_count": 30,
   "metadata": {},
   "outputs": [],
   "source": [
    "lines=fileopen.readlines()\n",
    "for line in lines:\n",
    "    print(line)"
   ]
  },
  {
   "cell_type": "markdown",
   "metadata": {
    "tags": [
     "parameters"
    ]
   },
   "source": [
    "Close the File: Always close the file after reading."
   ]
  },
  {
   "cell_type": "code",
   "execution_count": 44,
   "metadata": {},
   "outputs": [],
   "source": [
    "fileopen.close()\n"
   ]
  },
  {
   "cell_type": "markdown",
   "metadata": {},
   "source": [
    "Writing to Files\n",
    "Open a File in Write Mode: Use the open() function with write mode ('w' or 'a').\n",
    "\n",
    "'w': Write mode (overwrite existing content or create a new file).\n",
    "'a': Append mode (add content to the end of the file)."
   ]
  },
  {
   "cell_type": "code",
   "execution_count": 45,
   "metadata": {},
   "outputs": [],
   "source": [
    "file = open('output.txt', 'w')\n"
   ]
  },
  {
   "cell_type": "markdown",
   "metadata": {},
   "source": [
    "Write Content to the File:\n",
    "\n",
    "write(): Write a string to the file."
   ]
  },
  {
   "cell_type": "code",
   "execution_count": 48,
   "metadata": {},
   "outputs": [
    {
     "data": {
      "text/plain": [
       "14"
      ]
     },
     "execution_count": 48,
     "metadata": {},
     "output_type": "execute_result"
    }
   ],
   "source": [
    "file.write('Hello, World!\\n')\n"
   ]
  },
  {
   "cell_type": "code",
   "execution_count": 50,
   "metadata": {},
   "outputs": [
    {
     "name": "stdout",
     "output_type": "stream",
     "text": [
      "AI learning \n",
      "python modules\n",
      "libraries\n",
      "functions\n",
      "\n"
     ]
    }
   ],
   "source": [
    "with open('file.txt', 'r') as file:\n",
    "    content = file.read()\n",
    "    print(content)\n"
   ]
  },
  {
   "cell_type": "code",
   "execution_count": 51,
   "metadata": {},
   "outputs": [],
   "source": [
    "with open('output.txt', 'w') as file:\n",
    "    file.write('Hello, World!\\n')\n"
   ]
  },
  {
   "cell_type": "code",
   "execution_count": 54,
   "metadata": {},
   "outputs": [
    {
     "name": "stdout",
     "output_type": "stream",
     "text": [
      "c:\\Users\\Rida Kalim\\Desktop\\python practice\n"
     ]
    }
   ],
   "source": [
    "import os\n",
    "\n",
    "# Get the current working directory\n",
    "cwd = os.getcwd()\n",
    "print(cwd)\n",
    "\n",
    "# Join paths using os.path.join()\n",
    "file_path = os.path.join(cwd, 'output.txt')\n"
   ]
  }
 ],
 "metadata": {
  "kernelspec": {
   "display_name": "data_analysis",
   "language": "python",
   "name": "python3"
  },
  "language_info": {
   "codemirror_mode": {
    "name": "ipython",
    "version": 3
   },
   "file_extension": ".py",
   "mimetype": "text/x-python",
   "name": "python",
   "nbconvert_exporter": "python",
   "pygments_lexer": "ipython3",
   "version": "3.12.3"
  }
 },
 "nbformat": 4,
 "nbformat_minor": 2
}
