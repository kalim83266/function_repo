{
 "cells": [
  {
   "cell_type": "markdown",
   "metadata": {},
   "source": [
    "## Functions\n",
    "Functions in Python are blocks of code that perform a specific task. They allow you to organize your code into reusable components, making your programs more modular and easier to maintain. Here's an overview of functions in Python, including how to define and call them.\n",
    "\n",
    "#### Defining a Function  \n",
    "You can define a function in Python using the `def` keyword followed by the function name and parentheses containing any parameters the function takes. The function body is indented below the `def` statement."
   ]
  },
  {
   "cell_type": "code",
   "execution_count": 2,
   "metadata": {},
   "outputs": [
    {
     "name": "stdout",
     "output_type": "stream",
     "text": [
      "hellow world\n"
     ]
    }
   ],
   "source": [
    "def greet():\n",
    "    print(\"hellow world\")\n",
    "greet()"
   ]
  },
  {
   "cell_type": "markdown",
   "metadata": {},
   "source": [
    "### Calling a Function\n",
    "To execute a function and perform its task, you call it by using its name followed by parentheses. If the function takes parameters, you pass the required arguments inside the parentheses."
   ]
  },
  {
   "cell_type": "code",
   "execution_count": 8,
   "metadata": {},
   "outputs": [
    {
     "name": "stdout",
     "output_type": "stream",
     "text": [
      "Hello kashif\n",
      "Hello rida\n"
     ]
    }
   ],
   "source": [
    "def greet(name):\n",
    "    print(f\"Hello {name}\")\n",
    "greet('kashif')\n",
    "greet('rida')\n"
   ]
  },
  {
   "cell_type": "markdown",
   "metadata": {},
   "source": [
    "### Return Statement\n",
    "Functions can return a value using the return statement. This allows the function to provide a result that can be used elsewhere in the program."
   ]
  },
  {
   "cell_type": "code",
   "execution_count": 9,
   "metadata": {},
   "outputs": [
    {
     "name": "stdout",
     "output_type": "stream",
     "text": [
      "7\n"
     ]
    }
   ],
   "source": [
    "def add(a,b):\n",
    "    return a + b\n",
    "print(add(3,4)) # Output: 7"
   ]
  },
  {
   "cell_type": "markdown",
   "metadata": {},
   "source": [
    "## Another way to return values "
   ]
  },
  {
   "cell_type": "code",
   "execution_count": 12,
   "metadata": {},
   "outputs": [
    {
     "name": "stdout",
     "output_type": "stream",
     "text": [
      "3\n"
     ]
    }
   ],
   "source": [
    "def subtract(a,b):\n",
    "    return a-b\n",
    "result=subtract(5,2)\n",
    "print(result)"
   ]
  },
  {
   "cell_type": "markdown",
   "metadata": {},
   "source": [
    "### Default Parameters\n",
    "You can specify default values for function parameters. If a parameter is not provided when the function is called, it uses the default value."
   ]
  },
  {
   "cell_type": "code",
   "execution_count": 22,
   "metadata": {},
   "outputs": [
    {
     "name": "stdout",
     "output_type": "stream",
     "text": [
      "Hello  Rida, Good morning!\n"
     ]
    }
   ],
   "source": [
    "# write a program using function and default parameters \n",
    "def greet(name, msg = \"Good morning!\"):\n",
    "    print(\"Hello \", name + ', ' + msg)\n",
    "greet('Rida')\n",
    "    "
   ]
  },
  {
   "cell_type": "code",
   "execution_count": null,
   "metadata": {},
   "outputs": [
    {
     "name": "stdout",
     "output_type": "stream",
     "text": [
      "Hello rida, good morning \n"
     ]
    }
   ],
   "source": [
    "def greet(name, msg= 'good morning'):\n",
    "    print(f\"Hello {name}, {msg} \")\n",
    "greet('rida')"
   ]
  },
  {
   "cell_type": "markdown",
   "metadata": {},
   "source": [
    "### Keyword Arguments\n",
    "You can also pass arguments to a function using keyword arguments. This allows you to specify which parameter each argument corresponds to, regardless of their order."
   ]
  },
  {
   "cell_type": "code",
   "execution_count": 26,
   "metadata": {},
   "outputs": [
    {
     "name": "stdout",
     "output_type": "stream",
     "text": [
      "Rida, wellcome\n"
     ]
    }
   ],
   "source": [
    "def greet(name, message):\n",
    "    print(f\"{name}, {message}\")\n",
    "greet(message=\"wellcome\", name=\"Rida\")"
   ]
  },
  {
   "cell_type": "markdown",
   "metadata": {},
   "source": [
    "### Variable-Length Arguments\n",
    "Functions can accept a variable number of arguments using `*args` and `**kwargs`. `*args` collects positional arguments into a tuple, and `**kwargs` collects keyword arguments into a dictionary."
   ]
  },
  {
   "cell_type": "code",
   "execution_count": 27,
   "metadata": {},
   "outputs": [
    {
     "name": "stdout",
     "output_type": "stream",
     "text": [
      "Positional arguments: (1, 2, 3)\n",
      "Keyword arguments: {'name': 'Alice', 'age': 30}\n"
     ]
    }
   ],
   "source": [
    "def print_args(*args, **kwargs):\n",
    "    print(\"Positional arguments:\", args)\n",
    "    print(\"Keyword arguments:\", kwargs)\n",
    "\n",
    "print_args(1, 2, 3, name=\"Alice\", age=30)\n",
    "# Output:\n",
    "# Positional arguments: (1, 2, 3)\n",
    "# Keyword arguments: {'name': 'Alice', 'age': 30}\n"
   ]
  },
  {
   "cell_type": "code",
   "execution_count": 34,
   "metadata": {},
   "outputs": [
    {
     "name": "stdout",
     "output_type": "stream",
     "text": [
      "positional arguments:  (1, 2, 3)\n",
      "keyword arguments:  {'name': 'rida', 'age': 30}\n"
     ]
    }
   ],
   "source": [
    "def print_args(*args, **kwargs):\n",
    "    print(\"positional arguments: \",args)\n",
    "    print('keyword arguments: ',kwargs)\n",
    "print_args(1,2,3, name='rida', age=30)"
   ]
  },
  {
   "cell_type": "code",
   "execution_count": 35,
   "metadata": {},
   "outputs": [
    {
     "name": "stdout",
     "output_type": "stream",
     "text": [
      "\n",
      "    Calculate the square of a number.\n",
      "\n",
      "    Args:\n",
      "    number (int): The number to be squared.\n",
      "\n",
      "    Returns:\n",
      "    int: The square of the input number.\n",
      "    \n"
     ]
    }
   ],
   "source": [
    "def square(number):\n",
    "    \"\"\"\n",
    "    Calculate the square of a number.\n",
    "\n",
    "    Args:\n",
    "    number (int): The number to be squared.\n",
    "\n",
    "    Returns:\n",
    "    int: The square of the input number.\n",
    "    \"\"\"\n",
    "    return number ** 2\n",
    "\n",
    "# Accessing the docstring\n",
    "print(square.__doc__)\n"
   ]
  },
  {
   "cell_type": "markdown",
   "metadata": {},
   "source": []
  }
 ],
 "metadata": {
  "kernelspec": {
   "display_name": "data_analysis",
   "language": "python",
   "name": "python3"
  },
  "language_info": {
   "codemirror_mode": {
    "name": "ipython",
    "version": 3
   },
   "file_extension": ".py",
   "mimetype": "text/x-python",
   "name": "python",
   "nbconvert_exporter": "python",
   "pygments_lexer": "ipython3",
   "version": "3.12.3"
  }
 },
 "nbformat": 4,
 "nbformat_minor": 2
}
